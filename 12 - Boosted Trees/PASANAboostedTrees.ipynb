{
 "cells": [
  {
   "cell_type": "code",
   "execution_count": 23,
   "id": "27b7fa05-8a04-4457-9f6c-41746acf204d",
   "metadata": {},
   "outputs": [],
   "source": [
    "import pandas as pd\n",
    "from sklearn.model_selection import train_test_split\n",
    "from sklearn.metrics import classification_report\n",
    "import xgboost as xgb\n",
    "from catboost import CatBoostClassifier\n",
    "\n",
    "from sklearn.preprocessing import LabelEncoder, StandardScaler"
   ]
  },
  {
   "cell_type": "code",
   "execution_count": 24,
   "id": "44fd99be-7d2a-4041-914c-44aa6cedfe05",
   "metadata": {},
   "outputs": [
    {
     "data": {
      "text/html": [
       "<div>\n",
       "<style scoped>\n",
       "    .dataframe tbody tr th:only-of-type {\n",
       "        vertical-align: middle;\n",
       "    }\n",
       "\n",
       "    .dataframe tbody tr th {\n",
       "        vertical-align: top;\n",
       "    }\n",
       "\n",
       "    .dataframe thead th {\n",
       "        text-align: right;\n",
       "    }\n",
       "</style>\n",
       "<table border=\"1\" class=\"dataframe\">\n",
       "  <thead>\n",
       "    <tr style=\"text-align: right;\">\n",
       "      <th></th>\n",
       "      <th>buying</th>\n",
       "      <th>maint</th>\n",
       "      <th>doors</th>\n",
       "      <th>persons</th>\n",
       "      <th>lug_boot</th>\n",
       "      <th>safety</th>\n",
       "      <th>class</th>\n",
       "    </tr>\n",
       "  </thead>\n",
       "  <tbody>\n",
       "    <tr>\n",
       "      <th>0</th>\n",
       "      <td>vhigh</td>\n",
       "      <td>vhigh</td>\n",
       "      <td>2</td>\n",
       "      <td>2</td>\n",
       "      <td>small</td>\n",
       "      <td>low</td>\n",
       "      <td>unacc</td>\n",
       "    </tr>\n",
       "    <tr>\n",
       "      <th>1</th>\n",
       "      <td>vhigh</td>\n",
       "      <td>vhigh</td>\n",
       "      <td>2</td>\n",
       "      <td>2</td>\n",
       "      <td>small</td>\n",
       "      <td>med</td>\n",
       "      <td>unacc</td>\n",
       "    </tr>\n",
       "    <tr>\n",
       "      <th>2</th>\n",
       "      <td>vhigh</td>\n",
       "      <td>vhigh</td>\n",
       "      <td>2</td>\n",
       "      <td>2</td>\n",
       "      <td>small</td>\n",
       "      <td>high</td>\n",
       "      <td>unacc</td>\n",
       "    </tr>\n",
       "    <tr>\n",
       "      <th>3</th>\n",
       "      <td>vhigh</td>\n",
       "      <td>vhigh</td>\n",
       "      <td>2</td>\n",
       "      <td>2</td>\n",
       "      <td>med</td>\n",
       "      <td>low</td>\n",
       "      <td>unacc</td>\n",
       "    </tr>\n",
       "    <tr>\n",
       "      <th>4</th>\n",
       "      <td>vhigh</td>\n",
       "      <td>vhigh</td>\n",
       "      <td>2</td>\n",
       "      <td>2</td>\n",
       "      <td>med</td>\n",
       "      <td>med</td>\n",
       "      <td>unacc</td>\n",
       "    </tr>\n",
       "  </tbody>\n",
       "</table>\n",
       "</div>"
      ],
      "text/plain": [
       "  buying  maint doors persons lug_boot safety  class\n",
       "0  vhigh  vhigh     2       2    small    low  unacc\n",
       "1  vhigh  vhigh     2       2    small    med  unacc\n",
       "2  vhigh  vhigh     2       2    small   high  unacc\n",
       "3  vhigh  vhigh     2       2      med    low  unacc\n",
       "4  vhigh  vhigh     2       2      med    med  unacc"
      ]
     },
     "execution_count": 24,
     "metadata": {},
     "output_type": "execute_result"
    }
   ],
   "source": [
    "url = \"http://archive.ics.uci.edu/ml/machine-learning-databases/car/car.data\"\n",
    "columns = ['buying', 'maint', 'doors', 'persons', 'lug_boot', 'safety', 'class']\n",
    "df = pd.read_csv(url, names=columns)\n",
    "df.head()"
   ]
  },
  {
   "cell_type": "code",
   "execution_count": 26,
   "id": "386ad182-3627-4a4c-9db8-21184079a646",
   "metadata": {},
   "outputs": [],
   "source": [
    "# Convert categorical variables to numerical\n",
    "df_encoded = pd.get_dummies(df, columns=['buying', 'maint', 'doors', 'persons', 'lug_boot', 'safety'])\n",
    "\n",
    "# Features and target variable\n",
    "X = df_encoded.drop('class', axis=1)\n",
    "y = df_encoded['class']\n",
    "\n",
    "# Label encoding for the target variable\n",
    "label_encoder = LabelEncoder()\n",
    "y_encoded = label_encoder.fit_transform(y)\n",
    "\n",
    "# Split the data into training and testing sets\n",
    "X_train, X_test, y_train, y_test = train_test_split(X, y_encoded, test_size=0.2, random_state=42)"
   ]
  },
  {
   "cell_type": "code",
   "execution_count": 27,
   "id": "e20ef70e-bd27-4e46-bafe-08cd8c494251",
   "metadata": {},
   "outputs": [],
   "source": [
    "# Train the XGBoost classifier\n",
    "xgb_model = xgb.XGBClassifier(objective='multi:softmax', num_class=3)\n",
    "xgb_model.fit(X_train, y_train)\n",
    "y_pred_xgb = xgb_model.predict(X_test)"
   ]
  },
  {
   "cell_type": "code",
   "execution_count": 28,
   "id": "588c12d8-02d9-4d93-81e0-c988f9989288",
   "metadata": {},
   "outputs": [
    {
     "name": "stdout",
     "output_type": "stream",
     "text": [
      "XGBoost Classifier\n",
      "              precision    recall  f1-score   support\n",
      "\n",
      "           0       1.00      0.92      0.96        83\n",
      "           1       0.61      1.00      0.76        11\n",
      "           2       1.00      1.00      1.00       235\n",
      "           3       1.00      1.00      1.00        17\n",
      "\n",
      "    accuracy                           0.98       346\n",
      "   macro avg       0.90      0.98      0.93       346\n",
      "weighted avg       0.99      0.98      0.98       346\n",
      "\n"
     ]
    }
   ],
   "source": [
    "# Print out the classification report\n",
    "print(\"XGBoost Classifier\")\n",
    "print(classification_report(y_test, y_pred_xgb))"
   ]
  },
  {
   "cell_type": "code",
   "execution_count": 29,
   "id": "ecc82631-e36e-41ae-8470-b9c1bc826e18",
   "metadata": {},
   "outputs": [
    {
     "name": "stdout",
     "output_type": "stream",
     "text": [
      "0:\tlearn: 0.9474975\ttotal: 143ms\tremaining: 21.4s\n",
      "15:\tlearn: 0.2026547\ttotal: 176ms\tremaining: 1.47s\n",
      "30:\tlearn: 0.1136741\ttotal: 209ms\tremaining: 803ms\n",
      "45:\tlearn: 0.0760837\ttotal: 243ms\tremaining: 548ms\n",
      "60:\tlearn: 0.0548474\ttotal: 276ms\tremaining: 403ms\n",
      "75:\tlearn: 0.0425822\ttotal: 310ms\tremaining: 302ms\n",
      "90:\tlearn: 0.0346446\ttotal: 346ms\tremaining: 224ms\n",
      "105:\tlearn: 0.0287692\ttotal: 381ms\tremaining: 158ms\n",
      "120:\tlearn: 0.0247338\ttotal: 415ms\tremaining: 99.5ms\n",
      "135:\tlearn: 0.0219709\ttotal: 449ms\tremaining: 46.2ms\n",
      "149:\tlearn: 0.0195640\ttotal: 482ms\tremaining: 0us\n"
     ]
    }
   ],
   "source": [
    "# Train the Catboost classifier\n",
    "catboost_model = CatBoostClassifier(iterations=150, depth=5, learning_rate=0.3, loss_function='MultiClass', verbose=15)\n",
    "catboost_model.fit(X_train, y_train)\n",
    "y_pred_catboost = catboost_model.predict(X_test, prediction_type='Class')"
   ]
  },
  {
   "cell_type": "code",
   "execution_count": 30,
   "id": "6fc306fd-a928-477e-886b-676d8ad934ce",
   "metadata": {},
   "outputs": [
    {
     "name": "stdout",
     "output_type": "stream",
     "text": [
      "\n",
      "Catboost Classifier\n",
      "              precision    recall  f1-score   support\n",
      "\n",
      "           0       1.00      0.92      0.96        83\n",
      "           1       0.59      0.91      0.71        11\n",
      "           2       1.00      1.00      1.00       235\n",
      "           3       0.94      1.00      0.97        17\n",
      "\n",
      "    accuracy                           0.98       346\n",
      "   macro avg       0.88      0.96      0.91       346\n",
      "weighted avg       0.98      0.98      0.98       346\n",
      "\n"
     ]
    }
   ],
   "source": [
    "# Print out the classification report\n",
    "print(\"\\nCatboost Classifier\")\n",
    "print(classification_report(y_test, y_pred_catboost))"
   ]
  },
  {
   "cell_type": "code",
   "execution_count": null,
   "id": "ca4b71e6-b731-4c62-85b8-b2313b1d6c78",
   "metadata": {},
   "outputs": [],
   "source": []
  }
 ],
 "metadata": {
  "kernelspec": {
   "display_name": "Python 3 (ipykernel)",
   "language": "python",
   "name": "python3"
  },
  "language_info": {
   "codemirror_mode": {
    "name": "ipython",
    "version": 3
   },
   "file_extension": ".py",
   "mimetype": "text/x-python",
   "name": "python",
   "nbconvert_exporter": "python",
   "pygments_lexer": "ipython3",
   "version": "3.11.4"
  }
 },
 "nbformat": 4,
 "nbformat_minor": 5
}
