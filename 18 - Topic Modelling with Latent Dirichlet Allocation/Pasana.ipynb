{
 "cells": [
  {
   "cell_type": "markdown",
   "id": "e5569ebe-d9bb-4017-a5d6-fd7b87c8307b",
   "metadata": {},
   "source": [
    "# LDA DEMO"
   ]
  },
  {
   "cell_type": "code",
   "execution_count": 4,
   "id": "6b481af9-3e7a-4407-8bde-8d01b5d3b738",
   "metadata": {},
   "outputs": [],
   "source": [
    "# Import necessary libraries\n",
    "import spacy\n",
    "import gensim\n",
    "from gensim import corpora\n",
    "from pprint import pprint\n",
    "\n",
    "# Load spaCy's English NLP model\n",
    "nlp = spacy.load('en_core_web_sm')"
   ]
  },
  {
   "cell_type": "markdown",
   "id": "56591d37-365b-4b44-b0a2-f00900104823",
   "metadata": {},
   "source": [
    "# Sample documents for demonstration"
   ]
  },
  {
   "cell_type": "code",
   "execution_count": 5,
   "id": "f72f3c3a-5ca9-4272-8d27-c5af9b0754c1",
   "metadata": {},
   "outputs": [],
   "source": [
    "documents = [\n",
    "    \"Death Stranding is a new strand-type game genre.\",\n",
    "    \"Learning how to draw is a difficult task.\",\n",
    "    \"Godot is a free open-source game engine.\",\n",
    "    \"The Game Awards was a failure of an event.\",\n",
    "]"
   ]
  },
  {
   "cell_type": "markdown",
   "id": "6b04ad12-95ea-4a0a-ac49-f4ee9fbaeee2",
   "metadata": {},
   "source": [
    "# Preprocess the documents"
   ]
  },
  {
   "cell_type": "code",
   "execution_count": 10,
   "id": "a97f87a2-a9f4-4557-aef6-c921bda4e2b6",
   "metadata": {},
   "outputs": [],
   "source": [
    "def preprocess(text):\n",
    "    # Tokenize and lemmatize using spaCy\n",
    "    doc = nlp(text)\n",
    "    tokens = [token.lemma_ for token in doc if not token.is_stop and token.is_alpha]\n",
    "    return tokens\n",
    "\n",
    "# Apply preprocessing to all documents\n",
    "processed_documents = [preprocess(doc) for doc in documents]\n",
    "\n",
    "# Create a dictionary and corpus for LDA\n",
    "dictionary = corpora.Dictionary(processed_documents)\n",
    "corpus = [dictionary.doc2bow(doc) for doc in processed_documents]\n",
    "\n",
    "# Build LDA model\n",
    "lda_model_12 = gensim.models.LdaModel(corpus, num_topics=12, id2word=dictionary, passes=15)"
   ]
  },
  {
   "cell_type": "markdown",
   "id": "05542fa2-2765-4327-bb81-27e6b2d629ef",
   "metadata": {},
   "source": [
    "# Print topics and their keywords"
   ]
  },
  {
   "cell_type": "code",
   "execution_count": 11,
   "id": "1f567bec-dfdf-4dd8-80b3-169eb11aa978",
   "metadata": {},
   "outputs": [
    {
     "name": "stdout",
     "output_type": "stream",
     "text": [
      "12 Topics\n",
      "[(0,\n",
      "  '0.050*\"Godot\" + 0.050*\"learn\" + 0.050*\"event\" + 0.050*\"Game\" + '\n",
      "  '0.050*\"Awards\" + 0.050*\"source\" + 0.050*\"open\" + 0.050*\"free\" + '\n",
      "  '0.050*\"engine\" + 0.050*\"death\"'),\n",
      " (1,\n",
      "  '0.125*\"game\" + 0.125*\"stranding\" + 0.125*\"genre\" + 0.125*\"new\" + '\n",
      "  '0.125*\"strand\" + 0.125*\"death\" + 0.125*\"type\" + 0.010*\"Awards\" + '\n",
      "  '0.010*\"open\" + 0.010*\"event\"'),\n",
      " (2,\n",
      "  '0.050*\"Godot\" + 0.050*\"learn\" + 0.050*\"event\" + 0.050*\"Game\" + '\n",
      "  '0.050*\"Awards\" + 0.050*\"source\" + 0.050*\"open\" + 0.050*\"free\" + '\n",
      "  '0.050*\"engine\" + 0.050*\"death\"'),\n",
      " (3,\n",
      "  '0.191*\"failure\" + 0.191*\"event\" + 0.191*\"Game\" + 0.191*\"Awards\" + '\n",
      "  '0.015*\"Godot\" + 0.015*\"source\" + 0.015*\"open\" + 0.015*\"free\" + '\n",
      "  '0.015*\"engine\" + 0.015*\"death\"'),\n",
      " (4,\n",
      "  '0.050*\"Godot\" + 0.050*\"learn\" + 0.050*\"event\" + 0.050*\"Game\" + '\n",
      "  '0.050*\"Awards\" + 0.050*\"source\" + 0.050*\"open\" + 0.050*\"free\" + '\n",
      "  '0.050*\"engine\" + 0.050*\"death\"'),\n",
      " (5,\n",
      "  '0.141*\"Godot\" + 0.141*\"source\" + 0.141*\"open\" + 0.141*\"free\" + '\n",
      "  '0.141*\"engine\" + 0.141*\"game\" + 0.011*\"learn\" + 0.011*\"event\" + '\n",
      "  '0.011*\"Game\" + 0.011*\"Awards\"'),\n",
      " (6,\n",
      "  '0.050*\"Godot\" + 0.050*\"learn\" + 0.050*\"event\" + 0.050*\"Game\" + '\n",
      "  '0.050*\"Awards\" + 0.050*\"source\" + 0.050*\"open\" + 0.050*\"free\" + '\n",
      "  '0.050*\"engine\" + 0.050*\"death\"'),\n",
      " (7,\n",
      "  '0.050*\"Godot\" + 0.050*\"learn\" + 0.050*\"event\" + 0.050*\"Game\" + '\n",
      "  '0.050*\"Awards\" + 0.050*\"source\" + 0.050*\"open\" + 0.050*\"free\" + '\n",
      "  '0.050*\"engine\" + 0.050*\"death\"'),\n",
      " (8,\n",
      "  '0.191*\"learn\" + 0.191*\"task\" + 0.191*\"draw\" + 0.191*\"difficult\" + '\n",
      "  '0.015*\"free\" + 0.015*\"engine\" + 0.015*\"open\" + 0.015*\"Game\" + '\n",
      "  '0.015*\"Awards\" + 0.015*\"event\"'),\n",
      " (9,\n",
      "  '0.050*\"Godot\" + 0.050*\"learn\" + 0.050*\"event\" + 0.050*\"Game\" + '\n",
      "  '0.050*\"Awards\" + 0.050*\"source\" + 0.050*\"open\" + 0.050*\"free\" + '\n",
      "  '0.050*\"engine\" + 0.050*\"death\"'),\n",
      " (10,\n",
      "  '0.050*\"Godot\" + 0.050*\"learn\" + 0.050*\"event\" + 0.050*\"Game\" + '\n",
      "  '0.050*\"Awards\" + 0.050*\"source\" + 0.050*\"open\" + 0.050*\"free\" + '\n",
      "  '0.050*\"engine\" + 0.050*\"death\"'),\n",
      " (11,\n",
      "  '0.050*\"Godot\" + 0.050*\"learn\" + 0.050*\"event\" + 0.050*\"Game\" + '\n",
      "  '0.050*\"Awards\" + 0.050*\"source\" + 0.050*\"open\" + 0.050*\"free\" + '\n",
      "  '0.050*\"engine\" + 0.050*\"death\"')]\n"
     ]
    }
   ],
   "source": [
    "print('12 Topics')\n",
    "pprint(lda_model_12.print_topics())"
   ]
  },
  {
   "cell_type": "markdown",
   "id": "000de19a-8dd4-40e5-966b-25442d67ce78",
   "metadata": {},
   "source": [
    "# Assign topics to documents"
   ]
  },
  {
   "cell_type": "code",
   "execution_count": 13,
   "id": "da343547-03b4-41b6-b1b6-1faba58a87a5",
   "metadata": {},
   "outputs": [
    {
     "name": "stdout",
     "output_type": "stream",
     "text": [
      "Document 1 - Topic: [(0, 0.010416683), (1, 0.8854164), (2, 0.010416683), (3, 0.010416683), (4, 0.010416683), (5, 0.010416769), (6, 0.010416683), (7, 0.010416683), (8, 0.010416683), (9, 0.010416683), (10, 0.010416683), (11, 0.010416683)]\n",
      "Document 2 - Topic: [(0, 0.016666684), (1, 0.016666684), (2, 0.016666684), (3, 0.016666684), (4, 0.016666684), (5, 0.016666684), (6, 0.016666684), (7, 0.016666684), (8, 0.8166665), (9, 0.016666684), (10, 0.016666684), (11, 0.016666684)]\n",
      "Document 3 - Topic: [(0, 0.011904778), (1, 0.011904866), (2, 0.011904778), (3, 0.011904778), (4, 0.011904778), (5, 0.86904734), (6, 0.011904778), (7, 0.011904778), (8, 0.011904778), (9, 0.011904778), (10, 0.011904778), (11, 0.011904778)]\n",
      "Document 4 - Topic: [(0, 0.016666684), (1, 0.016666684), (2, 0.016666684), (3, 0.8166665), (4, 0.016666684), (5, 0.016666684), (6, 0.016666684), (7, 0.016666684), (8, 0.016666684), (9, 0.016666684), (10, 0.016666684), (11, 0.016666684)]\n"
     ]
    }
   ],
   "source": [
    "for i, doc in enumerate(processed_documents):\n",
    "    print(f\"Document {i+1} - Topic: {lda_model_12.get_document_topics(corpus[i])}\")"
   ]
  },
  {
   "cell_type": "markdown",
   "id": "5cbf91b0-fe18-489a-a7f4-d97b0b4c1eed",
   "metadata": {},
   "source": [
    "# Mini Exercise"
   ]
  },
  {
   "cell_type": "markdown",
   "id": "60bad36b-18ab-422e-a1ce-c23b2254a9af",
   "metadata": {},
   "source": [
    "Instructions:\n",
    "\n",
    "Use the provided Python code to perform topic modeling on a set of sample documents.\n",
    "Modify the sample documents or add your own to see how the results change.\n",
    "Experiment with the number of topics (parameter: num_topics) in the LDA model. Observe how different numbers of topics impact the result\n",
    "\n",
    "Make a small insight on what you have observe when you change, increase, or decrease some parameters.(Short Essay)"
   ]
  },
  {
   "cell_type": "markdown",
   "id": "3dcb4c73",
   "metadata": {},
   "source": [
    "I found that when you experiment with different parameters in the LDA model, such as the number of topics, you can observe various insights into the topic structure of the sample documents. By changing the number of topics, you can either identify more specific topics within the documents or more general topics. By examining the words that are most likely to belong to a particular topic, you can gain insights into the underlying themes present in the documents.s."
   ]
  },
  {
   "cell_type": "code",
   "execution_count": null,
   "id": "35366da9-a81c-4bb7-8e1d-738760fd995f",
   "metadata": {},
   "outputs": [],
   "source": []
  }
 ],
 "metadata": {
  "kernelspec": {
   "display_name": "Python 3 (ipykernel)",
   "language": "python",
   "name": "python3"
  },
  "language_info": {
   "codemirror_mode": {
    "name": "ipython",
    "version": 3
   },
   "file_extension": ".py",
   "mimetype": "text/x-python",
   "name": "python",
   "nbconvert_exporter": "python",
   "pygments_lexer": "ipython3",
   "version": "3.11.4"
  }
 },
 "nbformat": 4,
 "nbformat_minor": 5
}
